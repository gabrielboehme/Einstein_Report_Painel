{
 "cells": [
  {
   "cell_type": "code",
   "execution_count": 1,
   "metadata": {},
   "outputs": [],
   "source": [
    "import pandas as pd\n",
    "import numpy as np"
   ]
  },
  {
   "cell_type": "code",
   "execution_count": 3,
   "metadata": {},
   "outputs": [],
   "source": [
    "df = pd.read_csv('data_base.csv')\n",
    "colunas = df.columns[0].split(';')\n",
    "colunas[3] = 'Range questoes'\n",
    "df.columns = ['values']"
   ]
  },
  {
   "cell_type": "code",
   "execution_count": null,
   "metadata": {
    "scrolled": true
   },
   "outputs": [],
   "source": [
    "df1 = df['values'].str.split(';',expand=True)\n",
    "df1.columns = colunas\n",
    "df1.fillna(axis=1,value=0,inplace=True)\n",
    "df1"
   ]
  },
  {
   "cell_type": "code",
   "execution_count": null,
   "metadata": {},
   "outputs": [],
   "source": [
    "materias = df1.iloc[:8,[2,3]]\n",
    "materias['cod'] = range(1,9)\n",
    "materias"
   ]
  },
  {
   "cell_type": "code",
   "execution_count": null,
   "metadata": {},
   "outputs": [],
   "source": [
    "def map_questoes(x):\n",
    "    if x<=12:\n",
    "        return 1\n",
    "    elif x>12 and x<=21:\n",
    "        return 2\n",
    "    elif x>21 and x<=28:\n",
    "        return 3\n",
    "    elif x>28 and x<=35:\n",
    "        return 4\n",
    "    elif x>35 and x<=41:\n",
    "        return 5\n",
    "    elif x>41 and x<=48:\n",
    "        return 6\n",
    "    elif x>48 and x<=53:\n",
    "        return 7\n",
    "    else:\n",
    "        return 8"
   ]
  },
  {
   "cell_type": "code",
   "execution_count": null,
   "metadata": {
    "scrolled": true
   },
   "outputs": [],
   "source": [
    "gabarito = df1.iloc[:,:2]\n",
    "gabarito = gabarito.iloc[:60]\n",
    "gabarito['Questão'] = gabarito['Questão'].astype('int')\n",
    "gabarito['cod'] = gabarito['Questão'].transform(map_questoes)\n",
    "gabarito = gabarito.merge(materias[['cod','Matérias']],how='left',on='cod').drop('cod',axis=1)\n",
    "gabarito"
   ]
  },
  {
   "cell_type": "code",
   "execution_count": null,
   "metadata": {
    "scrolled": true
   },
   "outputs": [],
   "source": [
    "cursos = df1.iloc[:,[4,5]]\n",
    "cursos = cursos[cursos['Cursos']!='']\n",
    "cursos"
   ]
  },
  {
   "cell_type": "code",
   "execution_count": null,
   "metadata": {
    "scrolled": true
   },
   "outputs": [],
   "source": [
    "curso_pretendido = df1.iloc[:,[6,7]]\n",
    "curso_pretendido = curso_pretendido.merge(cursos,how='left',left_on='Curso Pretendido',right_on='Código do Curso')\n",
    "curso_pretendido.drop(axis=1,labels=['Curso Pretendido','Código do Curso'],inplace=True)\n",
    "curso_pretendido"
   ]
  },
  {
   "cell_type": "code",
   "execution_count": null,
   "metadata": {
    "scrolled": true
   },
   "outputs": [],
   "source": [
    "view_qtd_curso = curso_pretendido.groupby('Cursos').count().reset_index()\n",
    "view_qtd_curso"
   ]
  },
  {
   "cell_type": "code",
   "execution_count": null,
   "metadata": {},
   "outputs": [],
   "source": [
    "qtd_questoes = dict(gabarito.groupby('Matérias').count().iloc[:,1])\n",
    "qtd_questoes.items()"
   ]
  },
  {
   "cell_type": "code",
   "execution_count": null,
   "metadata": {
    "scrolled": true
   },
   "outputs": [],
   "source": [
    "respostas = pd.read_csv('answers.csv')\n",
    "respostas.columns = ['values']\n",
    "respostas = respostas['values'].str.split(';',expand=True)\n",
    "respostas"
   ]
  },
  {
   "cell_type": "code",
   "execution_count": null,
   "metadata": {
    "scrolled": true
   },
   "outputs": [],
   "source": [
    "respostas = respostas.iloc[1:].melt(0).sort_values([0,'variable'])\n",
    "respostas.columns = ['CPF','Questão','Resposta']\n",
    "respostas = respostas.merge(gabarito,how='left',left_on='Questão',right_on='Questão')\n",
    "respostas = respostas.merge(map_percentual,how='left',left_on='Matérias',right_on='Matérias')\n",
    "respostas['Correção'] = np.where(respostas['Resposta']==respostas['Gabarito'],1,0)\n",
    "respostas['Percentual'] = np.where(respostas['Resposta']==respostas['Gabarito'],1,0)/respostas['QTD']\n",
    "respostas.drop('QTD_Total',axis=1,inplace=True)\n",
    "respostas"
   ]
  },
  {
   "cell_type": "code",
   "execution_count": null,
   "metadata": {
    "scrolled": true
   },
   "outputs": [],
   "source": [
    "view_curso = respostas.groupby('CPF').sum().drop(['QTD','Percentual','Questão'],axis=1)\n",
    "view_curso['Percentual'] = view_curso['Correção']/60 \n",
    "view_curso = view_curso.merge(curso_pretendido,how='left',left_on='CPF',right_on='CPF')\n",
    "view_curso.groupby('Cursos').sum().drop(['Percentual'],axis=1).reset_index()"
   ]
  },
  {
   "cell_type": "code",
   "execution_count": null,
   "metadata": {
    "scrolled": false
   },
   "outputs": [],
   "source": [
    "materias_map = materias['Matérias'].sort_values().values\n",
    "materias_qtd_map = list(gabarito.sort_values('Matérias').groupby('Matérias').count().drop('Questão',axis=1)['Gabarito'].values)\n",
    "map_percentual = pd.DataFrame({'Matérias':materias_map,'QTD':materias_qtd_map})\n",
    "total_alunos = len(df1.groupby('CPF').sum())\n",
    "map_percentual['QTD_Total'] = map_percentual['QTD']*total_alunos\n",
    "map_percentual"
   ]
  },
  {
   "cell_type": "code",
   "execution_count": null,
   "metadata": {},
   "outputs": [],
   "source": [
    "perc_total = map_percentual.drop('QTD',axis=1)\n",
    "view_materias = respostas.groupby(['Matérias']).sum().merge(perc_total,how='left',left_on='Matérias',right_on='Matérias')\n",
    "view_materias_std = respostas.groupby(['Matérias']).std().merge(perc_total,how='left',left_on='Matérias',right_on='Matérias')\n",
    "view_materias_std.drop(['Questão','QTD','Percentual','QTD_Total'],axis=1,inplace=True)\n",
    "view_materias['Percentual total'] = view_materias['Correção']/view_materias['QTD_Total']\n",
    "view_materias.drop(['Questão','QTD','Percentual'],axis=1,inplace=True)\n",
    "view_materias.columns = ['Matéria','Total_Acertos','Total_Questoes','Percentual_Acerto_Geral']\n",
    "view_materias = view_materias.merge(view_materias_std,how='left',left_on='Matéria',right_on='Matérias').drop('Matérias',axis=1)\n",
    "view_materias.rename({'Correção':'STD'},axis=1,inplace=True)\n",
    "view_materias"
   ]
  },
  {
   "cell_type": "code",
   "execution_count": null,
   "metadata": {
    "scrolled": true
   },
   "outputs": [],
   "source": [
    "view_aluno = respostas.groupby(['CPF','Matérias']).sum().drop(['Questão','QTD'],axis=1)\n",
    "view_aluno.reset_index(inplace=True)\n",
    "view_aluno.columns = ['CPF','Matéria','Pontuação_aluno','Percentual_Acerto']\n",
    "view_materias_comparacao = view_materias.drop(['Total_Acertos','Total_Questoes'],axis=1)\n",
    "view_aluno = view_aluno.merge(view_materias_comparacao,how='left',right_on='Matéria',left_on='Matéria')\n",
    "cond_comp_media = view_aluno['Percentual_Acerto'] > view_aluno['Percentual_Acerto_Geral']\n",
    "view_aluno['Comparação Média'] = np.where(cond_comp_media,'Acima da Média','Abaixo da Média')\n",
    "view_aluno.set_index(['CPF','Matéria'],inplace=True)\n",
    "view_aluno.drop(['STD','Percentual_Acerto_Geral'],axis=1,inplace=True)\n",
    "view_aluno"
   ]
  },
  {
   "cell_type": "code",
   "execution_count": null,
   "metadata": {},
   "outputs": [],
   "source": [
    "view_aluno.to_csv('view_aluno.csv', header=True, index=True)\n",
    "view_materias.to_csv('view_materias.csv', header=True, index=True)\n",
    "respostas.to_csv('respostas.csv', header=True, index=True)\n",
    "curso_pretendido.to_csv('curso_pretendido.csv', header=True, index=True)\n",
    "respostas.to_csv('respostas.csv', header=True, index=True)\n",
    "view_qtd_curso.to_csv('view_qtd_curso.csv',header=True,index=False)\n",
    "view_curso.to_csv('view_curso.csv',header=True,index=False)"
   ]
  },
  {
   "cell_type": "code",
   "execution_count": null,
   "metadata": {},
   "outputs": [],
   "source": []
  },
  {
   "cell_type": "code",
   "execution_count": null,
   "metadata": {},
   "outputs": [],
   "source": []
  },
  {
   "cell_type": "code",
   "execution_count": null,
   "metadata": {},
   "outputs": [],
   "source": []
  }
 ],
 "metadata": {
  "kernelspec": {
   "display_name": "Python 3",
   "language": "python",
   "name": "python3"
  },
  "language_info": {
   "codemirror_mode": {
    "name": "ipython",
    "version": 3
   },
   "file_extension": ".py",
   "mimetype": "text/x-python",
   "name": "python",
   "nbconvert_exporter": "python",
   "pygments_lexer": "ipython3",
   "version": "3.7.3"
  }
 },
 "nbformat": 4,
 "nbformat_minor": 2
}
